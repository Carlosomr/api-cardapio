{
 "cells": [
  {
   "cell_type": "code",
   "execution_count": 1,
   "metadata": {},
   "outputs": [
    {
     "name": "stdout",
     "output_type": "stream",
     "text": [
      "Defaulting to user installation because normal site-packages is not writeable\n",
      "Collecting psycopg2-binary\n",
      "  Downloading psycopg2_binary-2.9.10-cp312-cp312-win_amd64.whl.metadata (5.0 kB)\n",
      "Downloading psycopg2_binary-2.9.10-cp312-cp312-win_amd64.whl (1.2 MB)\n",
      "   ---------------------------------------- 0.0/1.2 MB ? eta -:--:--\n",
      "   ------------------------------------ --- 1.0/1.2 MB 10.1 MB/s eta 0:00:01\n",
      "   ------------------------------------ --- 1.0/1.2 MB 10.1 MB/s eta 0:00:01\n",
      "   ------------------------------------ --- 1.0/1.2 MB 10.1 MB/s eta 0:00:01\n",
      "   ------------------------------------ --- 1.0/1.2 MB 10.1 MB/s eta 0:00:01\n",
      "   ------------------------------------ --- 1.0/1.2 MB 10.1 MB/s eta 0:00:01\n",
      "   ------------------------------------ --- 1.0/1.2 MB 10.1 MB/s eta 0:00:01\n",
      "   ---------------------------------------- 1.2/1.2 MB 679.1 kB/s eta 0:00:00\n",
      "Installing collected packages: psycopg2-binary\n",
      "Successfully installed psycopg2-binary-2.9.10\n",
      "Note: you may need to restart the kernel to use updated packages.\n"
     ]
    }
   ],
   "source": [
    "pip install psycopg2-binary\n"
   ]
  }
 ],
 "metadata": {
  "kernelspec": {
   "display_name": "Python 3",
   "language": "python",
   "name": "python3"
  },
  "language_info": {
   "codemirror_mode": {
    "name": "ipython",
    "version": 3
   },
   "file_extension": ".py",
   "mimetype": "text/x-python",
   "name": "python",
   "nbconvert_exporter": "python",
   "pygments_lexer": "ipython3",
   "version": "3.12.8"
  }
 },
 "nbformat": 4,
 "nbformat_minor": 2
}
